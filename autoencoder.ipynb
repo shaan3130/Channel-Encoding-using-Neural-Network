{
 "cells": [
  {
   "cell_type": "code",
   "execution_count": 1,
   "metadata": {
    "id": "fTvvRFcZyPZy"
   },
   "outputs": [],
   "source": [
    "import numpy as np\n",
    "%matplotlib inline\n",
    "import matplotlib as mpl\n",
    "import matplotlib.pyplot as plt\n",
    "mpl.rc('axes', labelsize=14)\n",
    "mpl.rc('xtick', labelsize=12)\n",
    "mpl.rc('ytick', labelsize=12)\n",
    "import tensorflow as tf\n",
    "from tensorflow import keras\n",
    "import pandas as pd\n",
    "from scipy import special\n",
    "from tensorflow.keras import layers\n",
    "np.random.seed(1)\n",
    "tf.random.set_seed(1)\n",
    "from math import erfc"
   ]
  },
  {
   "cell_type": "code",
   "execution_count": 2,
   "metadata": {
    "id": "3uBk9vLnyWGS"
   },
   "outputs": [],
   "source": [
    "M = 16\n",
    "k = int(np.log2(M))\n",
    "n = 1\n",
    "np.random.seed(40)\n",
    "dec_loss = keras.losses.SparseCategoricalCrossentropy()\n",
    "mean_loss = keras.metrics.Mean()"
   ]
  },
  {
   "cell_type": "code",
   "execution_count": 3,
   "metadata": {
    "id": "jOqRZG_CRZEs"
   },
   "outputs": [],
   "source": [
    "def get_noise_dev(ebno):\n",
    "    # ebno in dB\n",
    "    lin_ebno = 10**(ebno/10)\n",
    "    noise_dev = 1/np.sqrt(2*k*lin_ebno)\n",
    "    return noise_dev"
   ]
  },
  {
   "cell_type": "code",
   "execution_count": 4,
   "metadata": {
    "id": "Uqn2iiEByeLw"
   },
   "outputs": [],
   "source": [
    "class MI_estimator(tf.keras.Model):\n",
    "    \"\"\"Takes model specifications as input and returns score\"\"\"\n",
    "    ## x has shape batch_size*2n ## \n",
    "    ## diagonal of 'scores' is joint score while off-diagonal is marginal ##\n",
    "    def __init__(self, nodes, num_layers, activation):\n",
    "        super(MI_estimator, self).__init__()\n",
    "        self.func = tf.keras.Sequential(\n",
    "          [tf.keras.layers.Dense(nodes, activation) for _ in range(num_layers)] + [tf.keras.layers.Dense(1)])\n",
    "    def call(self, x, y): \n",
    "        batch_size = x.shape[0]\n",
    "        x_rep = tf.tile(x, (batch_size, 1))\n",
    "        y_rep = tf.repeat(y, batch_size, axis=0)\n",
    "        xy_pairs = tf.concat((x_rep, y_rep), axis=1)\n",
    "        scores = self.func(xy_pairs)\n",
    "        return tf.reshape(scores, (batch_size, batch_size))"
   ]
  },
  {
   "cell_type": "code",
   "execution_count": 5,
   "metadata": {
    "id": "LCYuq_G1yf9w"
   },
   "outputs": [],
   "source": [
    "def MINE(scores):\n",
    "    batch_size = scores.shape[0]\n",
    "    joint = tf.reduce_mean(tf.linalg.diag_part(scores))\n",
    "    marg = tf.math.reduce_sum(tf.math.exp(scores)) - tf.math.reduce_sum(tf.math.exp(tf.linalg.diag_part(scores)))\n",
    "    marg = tf.math.log(marg/((batch_size-1)*batch_size))\n",
    "    ##taking average using only off-diagonal elements\n",
    "    return joint-marg"
   ]
  },
  {
   "cell_type": "code",
   "execution_count": 6,
   "metadata": {
    "id": "sZjbAFKXylHI"
   },
   "outputs": [],
   "source": [
    "def random_sample(batch_size):\n",
    "    '''return random integers in range M with shape (batch_size,1)'''\n",
    "    # odd_one = np.random.randint(M)\n",
    "    # msg_list = np.arange(M)\n",
    "    # repeat_times = [batch_size//M]*M\n",
    "    # repeat_times[odd_one] = batch_size - (M-1)*(batch_size//M)\n",
    "    # msg = np.repeat(msg_list,repeat_times)\n",
    "    # assert len(msg) == batch_size\n",
    "    msg = np.random.randint(M, size=(batch_size,1))\n",
    "    return msg\n",
    "\n",
    "def test_encoding(M=16, n=1):\n",
    "    inp = np.arange(0,M)\n",
    "    coding = encoder.predict(inp)\n",
    "    fig = plt.figure(figsize=(4,4))\n",
    "    plt.plot(coding[:,0], coding[:, 1], \"b.\")\n",
    "    plt.xlabel(\"$x_1$\", fontsize=18)\n",
    "    plt.ylabel(\"$x_2$\", fontsize=18, rotation=0)\n",
    "    plt.grid(True)\n",
    "    plt.gca().set_ylim(-2, 2)\n",
    "    plt.gca().set_xlim(-2, 2)\n",
    "    plt.show()"
   ]
  },
  {
   "cell_type": "code",
   "execution_count": 7,
   "metadata": {
    "id": "nu10uTb-ypRI"
   },
   "outputs": [],
   "source": [
    "def train_mi(MI_estimator, n_epochs, n_steps, batch_size, learning_rate):\n",
    "    optimizer_mi = keras.optimizers.Nadam(lr=learning_rate)\n",
    "    for epoch in range(1, n_epochs + 1): \n",
    "        loss_sum = 0\n",
    "        for step in range(1, n_steps + 1):\n",
    "            X_batch = random_sample(batch_size)\n",
    "            with tf.GradientTape() as tape:\n",
    "                x_enc = encoder(X_batch, training=True)\n",
    "                y_rec = channel(x_enc)\n",
    "                score = MI_estimator(x_enc,y_rec)\n",
    "                loss = -MINE(score)\n",
    "                gradients = tape.gradient(loss, MI_estimator.trainable_variables) \n",
    "                optimizer_mi.apply_gradients(zip(gradients, MI_estimator.trainable_variables))\n",
    "            loss_sum = loss_sum-loss\n",
    "        mi_loss = loss_sum/n_steps\n",
    "        if(epoch%n_epochs==0):\n",
    "            print(f'Epoch: {epoch}, Mi : {mi_loss:.3f}')"
   ]
  },
  {
   "cell_type": "code",
   "execution_count": 8,
   "metadata": {
    "id": "2xLv3ID6yprw"
   },
   "outputs": [],
   "source": [
    "def train_enc(MI_estimator, n_epochs, n_steps, batch_size, learning_rate):\n",
    "    optimizer_enc = keras.optimizers.Nadam(lr=learning_rate)\n",
    "    for epoch in range(1, n_epochs + 1): \n",
    "        loss_sum = 0\n",
    "        for step in range(1, n_steps + 1):\n",
    "            X_batch  = random_sample(batch_size)\n",
    "            with tf.GradientTape() as tape:\n",
    "                x_enc = encoder(X_batch, training=True)\n",
    "                y_rec = channel(x_enc)\n",
    "                score = MI_estimator(x_enc, y_rec)\n",
    "                loss = -MINE(score)\n",
    "                gradients = tape.gradient(loss, encoder.trainable_variables) \n",
    "                optimizer_enc.apply_gradients(zip(gradients, encoder.trainable_variables))\n",
    "            loss_sum = loss_sum-loss\n",
    "        enc_loss = loss_sum/n_steps\n",
    "        if(epoch%n_epochs==0):\n",
    "            print(f'Epoch: {epoch}, Enc loss : {enc_loss:.3f}')\n",
    "            test_encoding(M, 1)"
   ]
  },
  {
   "cell_type": "code",
   "execution_count": 9,
   "metadata": {
    "id": "60eVjyWQ6ZaW"
   },
   "outputs": [],
   "source": [
    "def train_dec(autoencoder,n_epochs=1, n_steps=5, batch_size=512, learning_rate=5e-3):\n",
    "    optimizer_dec = keras.optimizers.Nadam(lr=learning_rate)\n",
    "    for epoch in range(1,n_epochs+1):\n",
    "        running_loss = 0.\n",
    "        symbol_err = 0.\n",
    "        for step in range(n_steps):\n",
    "            X_batch = random_sample(batch_size)\n",
    "            # X_batch dim : (batch_size,1)\n",
    "            with tf.GradientTape() as tape:\n",
    "                probs = autoencoder(X_batch, training=True)\n",
    "                # probs dim : (batch_size,M)\n",
    "                loss = tf.reduce_mean(dec_loss(X_batch,probs))\n",
    "                # loss dim : (1)\n",
    "                gradients = tape.gradient(loss,decoder.trainable_variables)\n",
    "                optimizer_dec.apply_gradients(zip(gradients,decoder.trainable_variables))\n",
    "            running_loss += loss\n",
    "            symbol_err += symbol_error(X_batch,probs)\n",
    "        running_loss = running_loss/n_steps\n",
    "        symbol_err = symbol_err/n_steps\n",
    "        if(epoch%n_epochs==0):\n",
    "            print(f'epoch : {epoch} ; dec loss : {running_loss:.3f} ; symbol error : {symbol_err:.3f}')"
   ]
  },
  {
   "cell_type": "code",
   "execution_count": 10,
   "metadata": {
    "id": "eIiHnzxoFQ7x"
   },
   "outputs": [],
   "source": [
    "def symbol_error(input_msg, msg):\n",
    "    batch_size = input_msg.shape[0]\n",
    "    decoded_msg = np.argmax(msg, 1)\n",
    "    pred_error = np.not_equal(np.reshape(input_msg, (-1,batch_size)), decoded_msg) \n",
    "    bber = np.mean(pred_error.astype(np.float32))\n",
    "    return bber"
   ]
  },
  {
   "cell_type": "code",
   "execution_count": 11,
   "metadata": {},
   "outputs": [
    {
     "name": "stdout",
     "output_type": "stream",
     "text": [
      "0.33333334\n"
     ]
    }
   ],
   "source": [
    "x = np.array([0,1,2])\n",
    "x=x.T\n",
    "y = np.array([[0.6, 0.2, 0.2], [0.1, 0.8, 0.1], [0.5, 0.2, 0.3]])\n",
    "print(symbol_error(x,y))"
   ]
  },
  {
   "cell_type": "code",
   "execution_count": 12,
   "metadata": {
    "colab": {
     "base_uri": "https://localhost:8080/"
    },
    "id": "TRWwaZPkyiEI",
    "outputId": "db840ab5-02de-4118-9840-d9b4e0fd2760"
   },
   "outputs": [
    {
     "name": "stdout",
     "output_type": "stream",
     "text": [
      "Model: \"sequential_4\"\n",
      "_________________________________________________________________\n",
      "Layer (type)                 Output Shape              Param #   \n",
      "=================================================================\n",
      "sequential_1 (Sequential)    (None, 2)                 562       \n",
      "_________________________________________________________________\n",
      "sequential_2 (Sequential)    (None, 2)                 0         \n",
      "_________________________________________________________________\n",
      "sequential_3 (Sequential)    (None, 16)                320       \n",
      "=================================================================\n",
      "Total params: 882\n",
      "Trainable params: 882\n",
      "Non-trainable params: 0\n",
      "_________________________________________________________________\n"
     ]
    }
   ],
   "source": [
    "SNR = 7\n",
    "norm_layer = keras.layers.Lambda(lambda x: tf.divide(x,tf.sqrt(2*tf.reduce_mean(tf.square(x)))))\n",
    "channel_layer = keras.layers.Lambda(lambda x: x + tf.random.normal(tf.shape(x), mean=0.0, stddev=get_noise_dev(SNR)))\n",
    "shape_layer = keras.layers.Lambda(lambda x: tf.reshape(x, shape=[-1,M])) ##not the same shape layer as given in the original code. Only used to reduce dimension of the output of the embedding layer\n",
    "\n",
    "score_fn = MI_estimator(256, 2, 'relu')\n",
    "\n",
    "## relu activation didn't produce good results\n",
    "encoder = keras.models.Sequential([keras.layers.Embedding(M, M, embeddings_initializer='glorot_normal', input_length=1), \n",
    "                                   shape_layer, keras.layers.Dense(M, activation=\"elu\"), \n",
    "                                   #keras.layers.Dense(M, activation=\"relu\"), \n",
    "                                   keras.layers.Dense(2*n, activation=None), \n",
    "                                   norm_layer])\n",
    "channel = keras.models.Sequential([channel_layer])\n",
    "decoder = keras.models.Sequential([\n",
    "                                   keras.layers.Input(shape=(2*n)),\n",
    "                                   keras.layers.Dense(M,activation='elu'),\n",
    "                                #    keras.layers.Dense(M,activation='relu'),\n",
    "                                   keras.layers.Dense(M,activation='softmax')\n",
    "])\n",
    "autoencoder = keras.models.Sequential([encoder,channel,decoder])\n",
    "autoencoder.summary()"
   ]
  },
  {
   "cell_type": "code",
   "execution_count": 13,
   "metadata": {
    "colab": {
     "base_uri": "https://localhost:8080/",
     "height": 1000
    },
    "id": "S4Kr9h8rysB5",
    "outputId": "8e88f3c3-1066-4939-c9b9-5859cb828222"
   },
   "outputs": [
    {
     "name": "stdout",
     "output_type": "stream",
     "text": [
      "Encoder Training Iter 1/10\n",
      "Epoch: 5, Mi : 2.125\n",
      "Epoch: 5, Enc loss : 2.427\n"
     ]
    },
    {
     "data": {
      "image/png": "[encoded data removed]",
      "text/plain": [
       "<Figure size 288x288 with 1 Axes>"
      ]
     },
     "metadata": {
      "needs_background": "light"
     },
     "output_type": "display_data"
    },
    {
     "name": "stdout",
     "output_type": "stream",
     "text": [
      "----------------------------------------------------------------------------------------------------\n",
      "Encoder Training Iter 2/10\n",
      "Epoch: 5, Mi : 2.531\n",
      "Epoch: 5, Enc loss : 2.579\n"
     ]
    },
    {
     "data": {
      "image/png": "[encoded data removed]",
      "text/plain": [
       "<Figure size 288x288 with 1 Axes>"
      ]
     },
     "metadata": {
      "needs_background": "light"
     },
     "output_type": "display_data"
    },
    {
     "name": "stdout",
     "output_type": "stream",
     "text": [
      "----------------------------------------------------------------------------------------------------\n",
      "Encoder Training Iter 3/10\n",
      "Epoch: 5, Mi : 2.642\n",
      "Epoch: 5, Enc loss : 2.555\n"
     ]
    },
    {
     "data": {
      "image/png": "[encoded data removed]",
      "text/plain": [
       "<Figure size 288x288 with 1 Axes>"
      ]
     },
     "metadata": {
      "needs_background": "light"
     },
     "output_type": "display_data"
    },
    {
     "name": "stdout",
     "output_type": "stream",
     "text": [
      "----------------------------------------------------------------------------------------------------\n",
      "Encoder Training Iter 4/10\n",
      "Epoch: 5, Mi : 2.564\n",
      "Epoch: 5, Enc loss : 2.585\n"
     ]
    },
    {
     "data": {
      "image/png": "[encoded data removed]",
      "text/plain": [
       "<Figure size 288x288 with 1 Axes>"
      ]
     },
     "metadata": {
      "needs_background": "light"
     },
     "output_type": "display_data"
    },
    {
     "name": "stdout",
     "output_type": "stream",
     "text": [
      "----------------------------------------------------------------------------------------------------\n",
      "Encoder Training Iter 5/10\n",
      "Epoch: 5, Mi : 2.554\n",
      "Epoch: 5, Enc loss : 2.608\n"
     ]
    },
    {
     "data": {
      "image/png": "[encoded data removed]",
      "text/plain": [
       "<Figure size 288x288 with 1 Axes>"
      ]
     },
     "metadata": {
      "needs_background": "light"
     },
     "output_type": "display_data"
    },
    {
     "name": "stdout",
     "output_type": "stream",
     "text": [
      "----------------------------------------------------------------------------------------------------\n",
      "Encoder Training Iter 6/10\n",
      "Epoch: 5, Mi : 2.608\n",
      "Epoch: 5, Enc loss : 2.584\n"
     ]
    },
    {
     "data": {
      "image/png": "[encoded data removed]",
      "text/plain": [
       "<Figure size 288x288 with 1 Axes>"
      ]
     },
     "metadata": {
      "needs_background": "light"
     },
     "output_type": "display_data"
    },
    {
     "name": "stdout",
     "output_type": "stream",
     "text": [
      "----------------------------------------------------------------------------------------------------\n",
      "Encoder Training Iter 7/10\n",
      "Epoch: 5, Mi : 2.605\n",
      "Epoch: 5, Enc loss : 2.571\n"
     ]
    },
    {
     "data": {
      "image/png": "[encoded data removed]",
      "text/plain": [
       "<Figure size 288x288 with 1 Axes>"
      ]
     },
     "metadata": {
      "needs_background": "light"
     },
     "output_type": "display_data"
    },
    {
     "name": "stdout",
     "output_type": "stream",
     "text": [
      "----------------------------------------------------------------------------------------------------\n",
      "Encoder Training Iter 8/10\n",
      "Epoch: 5, Mi : 2.636\n",
      "Epoch: 5, Enc loss : 2.561\n"
     ]
    },
    {
     "data": {
      "image/png": "[encoded data removed]",
      "text/plain": [
       "<Figure size 288x288 with 1 Axes>"
      ]
     },
     "metadata": {
      "needs_background": "light"
     },
     "output_type": "display_data"
    },
    {
     "name": "stdout",
     "output_type": "stream",
     "text": [
      "----------------------------------------------------------------------------------------------------\n",
      "Encoder Training Iter 9/10\n",
      "Epoch: 5, Mi : 2.586\n",
      "Epoch: 5, Enc loss : 2.615\n"
     ]
    },
    {
     "data": {
      "image/png": "[encoded data removed]",
      "text/plain": [
       "<Figure size 288x288 with 1 Axes>"
      ]
     },
     "metadata": {
      "needs_background": "light"
     },
     "output_type": "display_data"
    },
    {
     "name": "stdout",
     "output_type": "stream",
     "text": [
      "----------------------------------------------------------------------------------------------------\n",
      "Encoder Training Iter 10/10\n",
      "Epoch: 5, Mi : 2.558\n",
      "Epoch: 5, Enc loss : 2.616\n"
     ]
    },
    {
     "data": {
      "image/png": "[encoded data removed]",
      "text/plain": [
       "<Figure size 288x288 with 1 Axes>"
      ]
     },
     "metadata": {
      "needs_background": "light"
     },
     "output_type": "display_data"
    },
    {
     "name": "stdout",
     "output_type": "stream",
     "text": [
      "----------------------------------------------------------------------------------------------------\n",
      "Decoder Training Iter 1/10\n",
      "epoch : 1 ; dec loss : 0.796 ; symbol error : 0.174\n",
      "Decoder Training Iter 2/10\n",
      "epoch : 1 ; dec loss : 0.185 ; symbol error : 0.059\n",
      "Decoder Training Iter 3/10\n",
      "epoch : 1 ; dec loss : 0.164 ; symbol error : 0.058\n",
      "Decoder Training Iter 4/10\n",
      "epoch : 1 ; dec loss : 0.161 ; symbol error : 0.058\n",
      "Decoder Training Iter 5/10\n",
      "epoch : 1 ; dec loss : 0.160 ; symbol error : 0.057\n",
      "Decoder Training Iter 6/10\n",
      "epoch : 1 ; dec loss : 0.159 ; symbol error : 0.058\n",
      "Decoder Training Iter 7/10\n",
      "epoch : 1 ; dec loss : 0.163 ; symbol error : 0.059\n",
      "Decoder Training Iter 8/10\n",
      "epoch : 1 ; dec loss : 0.160 ; symbol error : 0.058\n",
      "Decoder Training Iter 9/10\n",
      "epoch : 1 ; dec loss : 0.162 ; symbol error : 0.058\n",
      "Decoder Training Iter 10/10\n",
      "epoch : 1 ; dec loss : 0.160 ; symbol error : 0.058\n"
     ]
    }
   ],
   "source": [
    "np.random.seed(40)\n",
    "lr = 5e-3\n",
    "tot_steps = 10\n",
    "for iter in range(tot_steps):\n",
    "    print(\"Encoder Training Iter {}/{}\".format(iter+1, tot_steps))\n",
    "    train_mi(score_fn, n_epochs=5, n_steps=20, batch_size=64, learning_rate=lr)\n",
    "    train_enc(score_fn, n_epochs=5, n_steps=40, batch_size=64, learning_rate=lr)\n",
    "    print('-'*100)\n",
    "dec_lr = lr\n",
    "dec_steps = 10\n",
    "for iter in range(dec_steps):\n",
    "    print(\"Decoder Training Iter {}/{}\".format(iter+1, dec_steps))\n",
    "    train_dec(autoencoder,n_epochs=1,n_steps=500,batch_size=512,learning_rate=lr)"
   ]
  },
  {
   "cell_type": "code",
   "execution_count": 15,
   "metadata": {
    "id": "GQQ6w7_v8eoH"
   },
   "outputs": [],
   "source": [
    "def noise_perf():\n",
    "    snr_range = np.linspace(0, 14, 30)\n",
    "    bber_vec = [None] * len(snr_range)\n",
    "    qam_err = [None]*len(snr_range)\n",
    "    batch_size=1024\n",
    "    iters = 100\n",
    "    for snr in range(len(snr_range)):\n",
    "        running_err = 0.\n",
    "        for it in range(iters):\n",
    "            noise_std = get_noise_dev(snr_range[snr])\n",
    "            X_batch  = random_sample(batch_size)\n",
    "            enc_out = encoder(X_batch, training=False)\n",
    "            dec_in = enc_out + tf.random.normal(tf.shape(enc_out), mean=0.0, stddev=noise_std)\n",
    "            pred = decoder(dec_in, training=False)\n",
    "            err_rate = symbol_error(X_batch, pred)\n",
    "            running_err += err_rate\n",
    "        running_err /= iters\n",
    "        bber_vec[snr] = running_err\n",
    "        qam_err[snr] = qam(snr_range[snr])\n",
    "        if (snr % 6 == 0) & (snr > 0):\n",
    "            print(f'Progress: {snr} of {30} parts')\n",
    "    return (snr_range, bber_vec,qam_err)"
   ]
  },
  {
   "cell_type": "code",
   "execution_count": 16,
   "metadata": {
    "id": "N7Ey_wEB8i63"
   },
   "outputs": [],
   "source": [
    "def qam(ebno):\n",
    "    return (3.0/2)*special.erfc(np.sqrt((4.0/10)*10.**(ebno/10)))"
   ]
  },
  {
   "cell_type": "code",
   "execution_count": 17,
   "metadata": {
    "colab": {
     "base_uri": "https://localhost:8080/",
     "height": 335
    },
    "id": "gQtjzp6RTHCu",
    "outputId": "cb901944-2428-47cd-8d35-8fcca873c453"
   },
   "outputs": [
    {
     "name": "stdout",
     "output_type": "stream",
     "text": [
      "Progress: 6 of 30 parts\n",
      "Progress: 12 of 30 parts\n",
      "Progress: 18 of 30 parts\n",
      "Progress: 24 of 30 parts\n"
     ]
    },
    {
     "data": {
      "image/png": "[encoded data removed]",
      "text/plain": [
       "<Figure size 432x288 with 1 Axes>"
      ]
     },
     "metadata": {
      "needs_background": "light"
     },
     "output_type": "display_data"
    }
   ],
   "source": [
    "(snr_range,err,qam_err) = noise_perf()\n",
    "plt.plot(snr_range,err,'bo-',label='MI CE')\n",
    "plt.plot(snr_range,qam_err,'ro-',label='QAM')\n",
    "plt.legend()\n",
    "plt.yscale('log')"
   ]
  }
 ],
 "metadata": {
  "colab": {
   "collapsed_sections": [],
   "name": "autoencoder.ipynb",
   "provenance": []
  },
  "kernelspec": {
   "display_name": "Python 3",
   "language": "python",
   "name": "python3"
  },
  "language_info": {
   "codemirror_mode": {
    "name": "ipython",
    "version": 3
   },
   "file_extension": ".py",
   "mimetype": "text/x-python",
   "name": "python",
   "nbconvert_exporter": "python",
   "pygments_lexer": "ipython3",
   "version": "3.7.3"
  }
 },
 "nbformat": 4,
 "nbformat_minor": 1
}
